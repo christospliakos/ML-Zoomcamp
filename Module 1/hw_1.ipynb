{
 "cells": [
  {
   "cell_type": "code",
   "execution_count": 1,
   "id": "3f16e807",
   "metadata": {},
   "outputs": [],
   "source": [
    "import numpy as np\n",
    "import pandas as pd\n",
    "import matplotlib.pyplot as plt\n",
    "import seaborn as sns"
   ]
  },
  {
   "cell_type": "code",
   "execution_count": 33,
   "id": "7a99694f",
   "metadata": {},
   "outputs": [
    {
     "data": {
      "application/vnd.microsoft.datawrangler.viewer.v0+json": {
       "columns": [
        {
         "name": "index",
         "rawType": "int64",
         "type": "integer"
        },
        {
         "name": "engine_displacement",
         "rawType": "int64",
         "type": "integer"
        },
        {
         "name": "num_cylinders",
         "rawType": "float64",
         "type": "float"
        },
        {
         "name": "horsepower",
         "rawType": "float64",
         "type": "float"
        },
        {
         "name": "vehicle_weight",
         "rawType": "float64",
         "type": "float"
        },
        {
         "name": "acceleration",
         "rawType": "float64",
         "type": "float"
        },
        {
         "name": "model_year",
         "rawType": "int64",
         "type": "integer"
        },
        {
         "name": "origin",
         "rawType": "object",
         "type": "string"
        },
        {
         "name": "fuel_type",
         "rawType": "object",
         "type": "string"
        },
        {
         "name": "drivetrain",
         "rawType": "object",
         "type": "string"
        },
        {
         "name": "num_doors",
         "rawType": "float64",
         "type": "float"
        },
        {
         "name": "fuel_efficiency_mpg",
         "rawType": "float64",
         "type": "float"
        }
       ],
       "ref": "95fb4b8a-8649-4d67-ad25-99b21497c0ec",
       "rows": [
        [
         "0",
         "170",
         "3.0",
         "159.0",
         "3413.433758606219",
         "17.7",
         "2003",
         "Europe",
         "Gasoline",
         "All-wheel drive",
         "0.0",
         "13.231728906241411"
        ],
        [
         "1",
         "130",
         "5.0",
         "97.0",
         "3149.664934220036",
         "17.8",
         "2007",
         "USA",
         "Gasoline",
         "Front-wheel drive",
         "0.0",
         "13.688217435463793"
        ],
        [
         "2",
         "170",
         null,
         "78.0",
         "3079.03899736884",
         "15.1",
         "2018",
         "Europe",
         "Gasoline",
         "Front-wheel drive",
         "0.0",
         "14.246340998160866"
        ],
        [
         "3",
         "220",
         "4.0",
         null,
         "2542.392401828378",
         "20.2",
         "2009",
         "USA",
         "Diesel",
         "All-wheel drive",
         "2.0",
         "16.91273559598635"
        ],
        [
         "4",
         "210",
         "1.0",
         "140.0",
         "3460.870989989018",
         "14.4",
         "2009",
         "Europe",
         "Gasoline",
         "All-wheel drive",
         "2.0",
         "12.488369121964562"
        ]
       ],
       "shape": {
        "columns": 11,
        "rows": 5
       }
      },
      "text/html": [
       "<div>\n",
       "<style scoped>\n",
       "    .dataframe tbody tr th:only-of-type {\n",
       "        vertical-align: middle;\n",
       "    }\n",
       "\n",
       "    .dataframe tbody tr th {\n",
       "        vertical-align: top;\n",
       "    }\n",
       "\n",
       "    .dataframe thead th {\n",
       "        text-align: right;\n",
       "    }\n",
       "</style>\n",
       "<table border=\"1\" class=\"dataframe\">\n",
       "  <thead>\n",
       "    <tr style=\"text-align: right;\">\n",
       "      <th></th>\n",
       "      <th>engine_displacement</th>\n",
       "      <th>num_cylinders</th>\n",
       "      <th>horsepower</th>\n",
       "      <th>vehicle_weight</th>\n",
       "      <th>acceleration</th>\n",
       "      <th>model_year</th>\n",
       "      <th>origin</th>\n",
       "      <th>fuel_type</th>\n",
       "      <th>drivetrain</th>\n",
       "      <th>num_doors</th>\n",
       "      <th>fuel_efficiency_mpg</th>\n",
       "    </tr>\n",
       "  </thead>\n",
       "  <tbody>\n",
       "    <tr>\n",
       "      <th>0</th>\n",
       "      <td>170</td>\n",
       "      <td>3.0</td>\n",
       "      <td>159.0</td>\n",
       "      <td>3413.433759</td>\n",
       "      <td>17.7</td>\n",
       "      <td>2003</td>\n",
       "      <td>Europe</td>\n",
       "      <td>Gasoline</td>\n",
       "      <td>All-wheel drive</td>\n",
       "      <td>0.0</td>\n",
       "      <td>13.231729</td>\n",
       "    </tr>\n",
       "    <tr>\n",
       "      <th>1</th>\n",
       "      <td>130</td>\n",
       "      <td>5.0</td>\n",
       "      <td>97.0</td>\n",
       "      <td>3149.664934</td>\n",
       "      <td>17.8</td>\n",
       "      <td>2007</td>\n",
       "      <td>USA</td>\n",
       "      <td>Gasoline</td>\n",
       "      <td>Front-wheel drive</td>\n",
       "      <td>0.0</td>\n",
       "      <td>13.688217</td>\n",
       "    </tr>\n",
       "    <tr>\n",
       "      <th>2</th>\n",
       "      <td>170</td>\n",
       "      <td>NaN</td>\n",
       "      <td>78.0</td>\n",
       "      <td>3079.038997</td>\n",
       "      <td>15.1</td>\n",
       "      <td>2018</td>\n",
       "      <td>Europe</td>\n",
       "      <td>Gasoline</td>\n",
       "      <td>Front-wheel drive</td>\n",
       "      <td>0.0</td>\n",
       "      <td>14.246341</td>\n",
       "    </tr>\n",
       "    <tr>\n",
       "      <th>3</th>\n",
       "      <td>220</td>\n",
       "      <td>4.0</td>\n",
       "      <td>NaN</td>\n",
       "      <td>2542.392402</td>\n",
       "      <td>20.2</td>\n",
       "      <td>2009</td>\n",
       "      <td>USA</td>\n",
       "      <td>Diesel</td>\n",
       "      <td>All-wheel drive</td>\n",
       "      <td>2.0</td>\n",
       "      <td>16.912736</td>\n",
       "    </tr>\n",
       "    <tr>\n",
       "      <th>4</th>\n",
       "      <td>210</td>\n",
       "      <td>1.0</td>\n",
       "      <td>140.0</td>\n",
       "      <td>3460.870990</td>\n",
       "      <td>14.4</td>\n",
       "      <td>2009</td>\n",
       "      <td>Europe</td>\n",
       "      <td>Gasoline</td>\n",
       "      <td>All-wheel drive</td>\n",
       "      <td>2.0</td>\n",
       "      <td>12.488369</td>\n",
       "    </tr>\n",
       "  </tbody>\n",
       "</table>\n",
       "</div>"
      ],
      "text/plain": [
       "   engine_displacement  num_cylinders  horsepower  vehicle_weight  \\\n",
       "0                  170            3.0       159.0     3413.433759   \n",
       "1                  130            5.0        97.0     3149.664934   \n",
       "2                  170            NaN        78.0     3079.038997   \n",
       "3                  220            4.0         NaN     2542.392402   \n",
       "4                  210            1.0       140.0     3460.870990   \n",
       "\n",
       "   acceleration  model_year  origin fuel_type         drivetrain  num_doors  \\\n",
       "0          17.7        2003  Europe  Gasoline    All-wheel drive        0.0   \n",
       "1          17.8        2007     USA  Gasoline  Front-wheel drive        0.0   \n",
       "2          15.1        2018  Europe  Gasoline  Front-wheel drive        0.0   \n",
       "3          20.2        2009     USA    Diesel    All-wheel drive        2.0   \n",
       "4          14.4        2009  Europe  Gasoline    All-wheel drive        2.0   \n",
       "\n",
       "   fuel_efficiency_mpg  \n",
       "0            13.231729  \n",
       "1            13.688217  \n",
       "2            14.246341  \n",
       "3            16.912736  \n",
       "4            12.488369  "
      ]
     },
     "execution_count": 33,
     "metadata": {},
     "output_type": "execute_result"
    }
   ],
   "source": [
    "df = pd.read_csv(\"car_fuel_efficiency.csv\")\n",
    "df.head()"
   ]
  },
  {
   "cell_type": "code",
   "execution_count": 34,
   "id": "5eae9194",
   "metadata": {},
   "outputs": [
    {
     "data": {
      "application/vnd.microsoft.datawrangler.viewer.v0+json": {
       "columns": [
        {
         "name": "index",
         "rawType": "object",
         "type": "string"
        },
        {
         "name": "engine_displacement",
         "rawType": "float64",
         "type": "float"
        },
        {
         "name": "num_cylinders",
         "rawType": "float64",
         "type": "float"
        },
        {
         "name": "horsepower",
         "rawType": "float64",
         "type": "float"
        },
        {
         "name": "vehicle_weight",
         "rawType": "float64",
         "type": "float"
        },
        {
         "name": "acceleration",
         "rawType": "float64",
         "type": "float"
        },
        {
         "name": "model_year",
         "rawType": "float64",
         "type": "float"
        },
        {
         "name": "num_doors",
         "rawType": "float64",
         "type": "float"
        },
        {
         "name": "fuel_efficiency_mpg",
         "rawType": "float64",
         "type": "float"
        }
       ],
       "ref": "b4d2aad5-5ce0-4ea4-af13-0d0fa4f707a9",
       "rows": [
        [
         "count",
         "9704.0",
         "9222.0",
         "8996.0",
         "9704.0",
         "8774.0",
         "9704.0",
         "9202.0",
         "9704.0"
        ],
        [
         "mean",
         "199.70836768342951",
         "3.962481023639124",
         "149.65729212983547",
         "3001.2809933731355",
         "15.021928424891724",
         "2011.484027205276",
         "-0.0064116496413823085",
         "14.985243228208573"
        ],
        [
         "std",
         "49.455318993864786",
         "1.9993225843926061",
         "29.879555200339343",
         "497.8948600311844",
         "2.5103392939378875",
         "6.659807627820583",
         "1.0481621114276816",
         "2.5564677028974283"
        ],
        [
         "min",
         "10.0",
         "0.0",
         "37.0",
         "952.6817606436496",
         "6.0",
         "2000.0",
         "-4.0",
         "6.200970533392815"
        ],
        [
         "25%",
         "170.0",
         "3.0",
         "130.0",
         "2666.2489848326345",
         "13.3",
         "2006.0",
         "-1.0",
         "13.267458637174174"
        ],
        [
         "50%",
         "200.0",
         "4.0",
         "149.0",
         "2993.2262961692163",
         "15.0",
         "2012.0",
         "0.0",
         "15.006036963481211"
        ],
        [
         "75%",
         "230.0",
         "5.0",
         "170.0",
         "3334.9570391969396",
         "16.7",
         "2017.0",
         "1.0",
         "16.707965306826786"
        ],
        [
         "max",
         "380.0",
         "13.0",
         "271.0",
         "4739.077089392099",
         "24.3",
         "2023.0",
         "4.0",
         "25.96722204888372"
        ]
       ],
       "shape": {
        "columns": 8,
        "rows": 8
       }
      },
      "text/html": [
       "<div>\n",
       "<style scoped>\n",
       "    .dataframe tbody tr th:only-of-type {\n",
       "        vertical-align: middle;\n",
       "    }\n",
       "\n",
       "    .dataframe tbody tr th {\n",
       "        vertical-align: top;\n",
       "    }\n",
       "\n",
       "    .dataframe thead th {\n",
       "        text-align: right;\n",
       "    }\n",
       "</style>\n",
       "<table border=\"1\" class=\"dataframe\">\n",
       "  <thead>\n",
       "    <tr style=\"text-align: right;\">\n",
       "      <th></th>\n",
       "      <th>engine_displacement</th>\n",
       "      <th>num_cylinders</th>\n",
       "      <th>horsepower</th>\n",
       "      <th>vehicle_weight</th>\n",
       "      <th>acceleration</th>\n",
       "      <th>model_year</th>\n",
       "      <th>num_doors</th>\n",
       "      <th>fuel_efficiency_mpg</th>\n",
       "    </tr>\n",
       "  </thead>\n",
       "  <tbody>\n",
       "    <tr>\n",
       "      <th>count</th>\n",
       "      <td>9704.000000</td>\n",
       "      <td>9222.000000</td>\n",
       "      <td>8996.000000</td>\n",
       "      <td>9704.000000</td>\n",
       "      <td>8774.000000</td>\n",
       "      <td>9704.000000</td>\n",
       "      <td>9202.000000</td>\n",
       "      <td>9704.000000</td>\n",
       "    </tr>\n",
       "    <tr>\n",
       "      <th>mean</th>\n",
       "      <td>199.708368</td>\n",
       "      <td>3.962481</td>\n",
       "      <td>149.657292</td>\n",
       "      <td>3001.280993</td>\n",
       "      <td>15.021928</td>\n",
       "      <td>2011.484027</td>\n",
       "      <td>-0.006412</td>\n",
       "      <td>14.985243</td>\n",
       "    </tr>\n",
       "    <tr>\n",
       "      <th>std</th>\n",
       "      <td>49.455319</td>\n",
       "      <td>1.999323</td>\n",
       "      <td>29.879555</td>\n",
       "      <td>497.894860</td>\n",
       "      <td>2.510339</td>\n",
       "      <td>6.659808</td>\n",
       "      <td>1.048162</td>\n",
       "      <td>2.556468</td>\n",
       "    </tr>\n",
       "    <tr>\n",
       "      <th>min</th>\n",
       "      <td>10.000000</td>\n",
       "      <td>0.000000</td>\n",
       "      <td>37.000000</td>\n",
       "      <td>952.681761</td>\n",
       "      <td>6.000000</td>\n",
       "      <td>2000.000000</td>\n",
       "      <td>-4.000000</td>\n",
       "      <td>6.200971</td>\n",
       "    </tr>\n",
       "    <tr>\n",
       "      <th>25%</th>\n",
       "      <td>170.000000</td>\n",
       "      <td>3.000000</td>\n",
       "      <td>130.000000</td>\n",
       "      <td>2666.248985</td>\n",
       "      <td>13.300000</td>\n",
       "      <td>2006.000000</td>\n",
       "      <td>-1.000000</td>\n",
       "      <td>13.267459</td>\n",
       "    </tr>\n",
       "    <tr>\n",
       "      <th>50%</th>\n",
       "      <td>200.000000</td>\n",
       "      <td>4.000000</td>\n",
       "      <td>149.000000</td>\n",
       "      <td>2993.226296</td>\n",
       "      <td>15.000000</td>\n",
       "      <td>2012.000000</td>\n",
       "      <td>0.000000</td>\n",
       "      <td>15.006037</td>\n",
       "    </tr>\n",
       "    <tr>\n",
       "      <th>75%</th>\n",
       "      <td>230.000000</td>\n",
       "      <td>5.000000</td>\n",
       "      <td>170.000000</td>\n",
       "      <td>3334.957039</td>\n",
       "      <td>16.700000</td>\n",
       "      <td>2017.000000</td>\n",
       "      <td>1.000000</td>\n",
       "      <td>16.707965</td>\n",
       "    </tr>\n",
       "    <tr>\n",
       "      <th>max</th>\n",
       "      <td>380.000000</td>\n",
       "      <td>13.000000</td>\n",
       "      <td>271.000000</td>\n",
       "      <td>4739.077089</td>\n",
       "      <td>24.300000</td>\n",
       "      <td>2023.000000</td>\n",
       "      <td>4.000000</td>\n",
       "      <td>25.967222</td>\n",
       "    </tr>\n",
       "  </tbody>\n",
       "</table>\n",
       "</div>"
      ],
      "text/plain": [
       "       engine_displacement  num_cylinders   horsepower  vehicle_weight  \\\n",
       "count          9704.000000    9222.000000  8996.000000     9704.000000   \n",
       "mean            199.708368       3.962481   149.657292     3001.280993   \n",
       "std              49.455319       1.999323    29.879555      497.894860   \n",
       "min              10.000000       0.000000    37.000000      952.681761   \n",
       "25%             170.000000       3.000000   130.000000     2666.248985   \n",
       "50%             200.000000       4.000000   149.000000     2993.226296   \n",
       "75%             230.000000       5.000000   170.000000     3334.957039   \n",
       "max             380.000000      13.000000   271.000000     4739.077089   \n",
       "\n",
       "       acceleration   model_year    num_doors  fuel_efficiency_mpg  \n",
       "count   8774.000000  9704.000000  9202.000000          9704.000000  \n",
       "mean      15.021928  2011.484027    -0.006412            14.985243  \n",
       "std        2.510339     6.659808     1.048162             2.556468  \n",
       "min        6.000000  2000.000000    -4.000000             6.200971  \n",
       "25%       13.300000  2006.000000    -1.000000            13.267459  \n",
       "50%       15.000000  2012.000000     0.000000            15.006037  \n",
       "75%       16.700000  2017.000000     1.000000            16.707965  \n",
       "max       24.300000  2023.000000     4.000000            25.967222  "
      ]
     },
     "execution_count": 34,
     "metadata": {},
     "output_type": "execute_result"
    }
   ],
   "source": [
    "df.describe()"
   ]
  },
  {
   "cell_type": "code",
   "execution_count": 35,
   "id": "80e72b82",
   "metadata": {},
   "outputs": [
    {
     "data": {
      "application/vnd.microsoft.datawrangler.viewer.v0+json": {
       "columns": [
        {
         "name": "index",
         "rawType": "object",
         "type": "string"
        },
        {
         "name": "0",
         "rawType": "int64",
         "type": "integer"
        }
       ],
       "ref": "bd57ff9f-9fcb-4243-ac18-f2fd5d360898",
       "rows": [
        [
         "engine_displacement",
         "0"
        ],
        [
         "num_cylinders",
         "482"
        ],
        [
         "horsepower",
         "708"
        ],
        [
         "vehicle_weight",
         "0"
        ],
        [
         "acceleration",
         "930"
        ],
        [
         "model_year",
         "0"
        ],
        [
         "origin",
         "0"
        ],
        [
         "fuel_type",
         "0"
        ],
        [
         "drivetrain",
         "0"
        ],
        [
         "num_doors",
         "502"
        ],
        [
         "fuel_efficiency_mpg",
         "0"
        ]
       ],
       "shape": {
        "columns": 1,
        "rows": 11
       }
      },
      "text/plain": [
       "engine_displacement      0\n",
       "num_cylinders          482\n",
       "horsepower             708\n",
       "vehicle_weight           0\n",
       "acceleration           930\n",
       "model_year               0\n",
       "origin                   0\n",
       "fuel_type                0\n",
       "drivetrain               0\n",
       "num_doors              502\n",
       "fuel_efficiency_mpg      0\n",
       "dtype: int64"
      ]
     },
     "execution_count": 35,
     "metadata": {},
     "output_type": "execute_result"
    }
   ],
   "source": [
    "df.isnull().sum()"
   ]
  },
  {
   "cell_type": "code",
   "execution_count": 36,
   "id": "5f5f5be5",
   "metadata": {},
   "outputs": [
    {
     "name": "stdout",
     "output_type": "stream",
     "text": [
      "Number of records in dataset: (9704, 11)\n"
     ]
    }
   ],
   "source": [
    "print(f\"Number of records in dataset: {df.shape}\")"
   ]
  },
  {
   "cell_type": "code",
   "execution_count": 37,
   "id": "59a3a4ed",
   "metadata": {},
   "outputs": [
    {
     "data": {
      "application/vnd.microsoft.datawrangler.viewer.v0+json": {
       "columns": [
        {
         "name": "index",
         "rawType": "object",
         "type": "string"
        },
        {
         "name": "fuel_type",
         "rawType": "object",
         "type": "unknown"
        }
       ],
       "ref": "9fdb6572-635f-4faf-be8f-abb880a1ee70",
       "rows": [
        [
         "count",
         "9704"
        ],
        [
         "unique",
         "2"
        ],
        [
         "top",
         "Gasoline"
        ],
        [
         "freq",
         "4898"
        ]
       ],
       "shape": {
        "columns": 1,
        "rows": 4
       }
      },
      "text/plain": [
       "count         9704\n",
       "unique           2\n",
       "top       Gasoline\n",
       "freq          4898\n",
       "Name: fuel_type, dtype: object"
      ]
     },
     "execution_count": 37,
     "metadata": {},
     "output_type": "execute_result"
    }
   ],
   "source": [
    "# Q4\n",
    "df.fuel_type.describe()"
   ]
  },
  {
   "cell_type": "code",
   "execution_count": 38,
   "id": "9da330f9",
   "metadata": {},
   "outputs": [
    {
     "data": {
      "text/plain": [
       "np.float64(23.759122836520497)"
      ]
     },
     "execution_count": 38,
     "metadata": {},
     "output_type": "execute_result"
    }
   ],
   "source": [
    "# Q5\n",
    "df[df['origin'] == 'Asia']['fuel_efficiency_mpg'].max()"
   ]
  },
  {
   "cell_type": "code",
   "execution_count": 39,
   "id": "063cf92b",
   "metadata": {},
   "outputs": [
    {
     "name": "stdout",
     "output_type": "stream",
     "text": [
      "Median value of horsepower column\n"
     ]
    },
    {
     "data": {
      "text/plain": [
       "np.float64(149.0)"
      ]
     },
     "execution_count": 39,
     "metadata": {},
     "output_type": "execute_result"
    }
   ],
   "source": [
    "print(\"Median value of horsepower column\")\n",
    "df['horsepower'].median()"
   ]
  },
  {
   "cell_type": "code",
   "execution_count": 40,
   "id": "c7dc7aa6",
   "metadata": {},
   "outputs": [
    {
     "name": "stdout",
     "output_type": "stream",
     "text": [
      "The most freequent value in the horsepower column: 0    152.0\n",
      "Name: horsepower, dtype: float64\n"
     ]
    }
   ],
   "source": [
    "print(\"The most freequent value in the horsepower column:\", df.horsepower.mode())"
   ]
  },
  {
   "cell_type": "code",
   "execution_count": 41,
   "id": "89de06c3",
   "metadata": {},
   "outputs": [
    {
     "name": "stderr",
     "output_type": "stream",
     "text": [
      "C:\\Users\\Administrator\\AppData\\Local\\Temp\\1\\ipykernel_27308\\1378922499.py:2: FutureWarning: A value is trying to be set on a copy of a DataFrame or Series through chained assignment using an inplace method.\n",
      "The behavior will change in pandas 3.0. This inplace method will never work because the intermediate object on which we are setting values always behaves as a copy.\n",
      "\n",
      "For example, when doing 'df[col].method(value, inplace=True)', try using 'df.method({col: value}, inplace=True)' or df[col] = df[col].method(value) instead, to perform the operation inplace on the original object.\n",
      "\n",
      "\n",
      "  df.horsepower.fillna(152, inplace=True)\n"
     ]
    }
   ],
   "source": [
    "df.horsepower.isnull().sum()\n",
    "df.horsepower.fillna(152, inplace=True)"
   ]
  },
  {
   "cell_type": "code",
   "execution_count": 42,
   "id": "5e73ca85",
   "metadata": {},
   "outputs": [
    {
     "data": {
      "text/plain": [
       "np.int64(0)"
      ]
     },
     "execution_count": 42,
     "metadata": {},
     "output_type": "execute_result"
    }
   ],
   "source": [
    "df.horsepower.isnull().sum()\n"
   ]
  },
  {
   "cell_type": "code",
   "execution_count": 43,
   "id": "0e3c64a8",
   "metadata": {},
   "outputs": [
    {
     "name": "stdout",
     "output_type": "stream",
     "text": [
      "New median value of horsepower column\n"
     ]
    },
    {
     "data": {
      "text/plain": [
       "np.float64(152.0)"
      ]
     },
     "execution_count": 43,
     "metadata": {},
     "output_type": "execute_result"
    }
   ],
   "source": [
    "print(\"New median value of horsepower column\")\n",
    "df['horsepower'].median()"
   ]
  },
  {
   "cell_type": "code",
   "execution_count": 54,
   "id": "149ec421",
   "metadata": {},
   "outputs": [
    {
     "data": {
      "text/plain": [
       "array([[2714.21930965, 2016.        ],\n",
       "       [2783.86897424, 2010.        ],\n",
       "       [3582.68736772, 2007.        ],\n",
       "       [2231.8081416 , 2011.        ],\n",
       "       [2659.43145076, 2016.        ],\n",
       "       [2844.22753389, 2014.        ],\n",
       "       [3761.99403819, 2019.        ]])"
      ]
     },
     "execution_count": 54,
     "metadata": {},
     "output_type": "execute_result"
    }
   ],
   "source": [
    "X = np.array(df[df['origin'] == 'Asia'][['vehicle_weight', 'model_year']][:7])\n",
    "X"
   ]
  },
  {
   "cell_type": "code",
   "execution_count": 58,
   "id": "9352cb5b",
   "metadata": {},
   "outputs": [
    {
     "data": {
      "text/plain": [
       "array([[62248334.33150762, 41431216.5073268 ],\n",
       "       [41431216.5073268 , 28373339.        ]])"
      ]
     },
     "execution_count": 58,
     "metadata": {},
     "output_type": "execute_result"
    }
   ],
   "source": [
    "XTX = np.dot(X.T, X)\n",
    "XTX"
   ]
  },
  {
   "cell_type": "code",
   "execution_count": 60,
   "id": "96fe1b6c",
   "metadata": {},
   "outputs": [
    {
     "data": {
      "text/plain": [
       "array([[ 5.71497081e-07, -8.34509443e-07],\n",
       "       [-8.34509443e-07,  1.25380877e-06]])"
      ]
     },
     "execution_count": 60,
     "metadata": {},
     "output_type": "execute_result"
    }
   ],
   "source": [
    "XTX_inv = np.linalg.inv(XTX)\n",
    "XTX_inv"
   ]
  },
  {
   "cell_type": "code",
   "execution_count": 61,
   "id": "bf820141",
   "metadata": {},
   "outputs": [],
   "source": [
    "y = np.array([1100, 1300, 800, 900, 1000, 1100, 1200])"
   ]
  },
  {
   "cell_type": "code",
   "execution_count": 67,
   "id": "05073a1e",
   "metadata": {},
   "outputs": [
    {
     "data": {
      "text/plain": [
       "np.float64(0.5187709081074016)"
      ]
     },
     "execution_count": 67,
     "metadata": {},
     "output_type": "execute_result"
    }
   ],
   "source": [
    "w = (XTX_inv @ X.T) @ y\n",
    "w.sum()"
   ]
  },
  {
   "cell_type": "code",
   "execution_count": 68,
   "id": "889a19f0",
   "metadata": {},
   "outputs": [
    {
     "data": {
      "text/plain": [
       "'2.3.2'"
      ]
     },
     "execution_count": 68,
     "metadata": {},
     "output_type": "execute_result"
    }
   ],
   "source": [
    "pd.__version__"
   ]
  },
  {
   "cell_type": "code",
   "execution_count": null,
   "id": "ae7edb3d",
   "metadata": {},
   "outputs": [],
   "source": []
  }
 ],
 "metadata": {
  "kernelspec": {
   "display_name": ".venv",
   "language": "python",
   "name": "python3"
  },
  "language_info": {
   "codemirror_mode": {
    "name": "ipython",
    "version": 3
   },
   "file_extension": ".py",
   "mimetype": "text/x-python",
   "name": "python",
   "nbconvert_exporter": "python",
   "pygments_lexer": "ipython3",
   "version": "3.11.0"
  }
 },
 "nbformat": 4,
 "nbformat_minor": 5
}
